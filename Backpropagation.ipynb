{
 "cells": [
  {
   "cell_type": "code",
   "execution_count": 1,
   "metadata": {},
   "outputs": [
    {
     "name": "stderr",
     "output_type": "stream",
     "text": [
      "Using TensorFlow backend.\n"
     ]
    }
   ],
   "source": [
    "from keras.models import Sequential\n",
    "from keras.layers import Dense\n",
    "import keras.optimizers\n",
    "from csv import reader\n",
    "import numpy as np\n",
    "import pandas as pd\n",
    "import matplotlib.pyplot as plt\n",
    "from sklearn.preprocessing import LabelEncoder\n",
    "from sklearn.preprocessing import StandardScaler"
   ]
  },
  {
   "cell_type": "code",
   "execution_count": 2,
   "metadata": {},
   "outputs": [],
   "source": [
    "df = pd.read_csv(\"data3.csv\")"
   ]
  },
  {
   "cell_type": "code",
   "execution_count": 3,
   "metadata": {},
   "outputs": [
    {
     "data": {
      "text/html": [
       "<div>\n",
       "<style scoped>\n",
       "    .dataframe tbody tr th:only-of-type {\n",
       "        vertical-align: middle;\n",
       "    }\n",
       "\n",
       "    .dataframe tbody tr th {\n",
       "        vertical-align: top;\n",
       "    }\n",
       "\n",
       "    .dataframe thead th {\n",
       "        text-align: right;\n",
       "    }\n",
       "</style>\n",
       "<table border=\"1\" class=\"dataframe\">\n",
       "  <thead>\n",
       "    <tr style=\"text-align: right;\">\n",
       "      <th></th>\n",
       "      <th>Age</th>\n",
       "      <th>Gender</th>\n",
       "      <th>TB Total Bilirubin</th>\n",
       "      <th>DB Direct Bilirubin</th>\n",
       "      <th>Alkphos Alkaline Phosphotase</th>\n",
       "      <th>Sgpt Alamine Aminotransferase</th>\n",
       "      <th>Sgot Aspartate Aminotransferase</th>\n",
       "      <th>TP Total Protiens</th>\n",
       "      <th>ALB Albumin</th>\n",
       "      <th>A/G Ratio Albumin and Globulin Ratio</th>\n",
       "      <th>Label</th>\n",
       "    </tr>\n",
       "  </thead>\n",
       "  <tbody>\n",
       "    <tr>\n",
       "      <th>0</th>\n",
       "      <td>65</td>\n",
       "      <td>0</td>\n",
       "      <td>0.7</td>\n",
       "      <td>0.1</td>\n",
       "      <td>187</td>\n",
       "      <td>16</td>\n",
       "      <td>18</td>\n",
       "      <td>6.8</td>\n",
       "      <td>3.3</td>\n",
       "      <td>0.90</td>\n",
       "      <td>1</td>\n",
       "    </tr>\n",
       "    <tr>\n",
       "      <th>1</th>\n",
       "      <td>62</td>\n",
       "      <td>1</td>\n",
       "      <td>10.9</td>\n",
       "      <td>5.5</td>\n",
       "      <td>699</td>\n",
       "      <td>64</td>\n",
       "      <td>100</td>\n",
       "      <td>7.5</td>\n",
       "      <td>3.2</td>\n",
       "      <td>0.74</td>\n",
       "      <td>1</td>\n",
       "    </tr>\n",
       "    <tr>\n",
       "      <th>2</th>\n",
       "      <td>62</td>\n",
       "      <td>1</td>\n",
       "      <td>7.3</td>\n",
       "      <td>4.1</td>\n",
       "      <td>490</td>\n",
       "      <td>60</td>\n",
       "      <td>68</td>\n",
       "      <td>7.0</td>\n",
       "      <td>3.3</td>\n",
       "      <td>0.89</td>\n",
       "      <td>1</td>\n",
       "    </tr>\n",
       "    <tr>\n",
       "      <th>3</th>\n",
       "      <td>58</td>\n",
       "      <td>1</td>\n",
       "      <td>1.0</td>\n",
       "      <td>0.4</td>\n",
       "      <td>182</td>\n",
       "      <td>14</td>\n",
       "      <td>20</td>\n",
       "      <td>6.8</td>\n",
       "      <td>3.4</td>\n",
       "      <td>1.00</td>\n",
       "      <td>1</td>\n",
       "    </tr>\n",
       "    <tr>\n",
       "      <th>4</th>\n",
       "      <td>72</td>\n",
       "      <td>1</td>\n",
       "      <td>3.9</td>\n",
       "      <td>2.0</td>\n",
       "      <td>195</td>\n",
       "      <td>27</td>\n",
       "      <td>59</td>\n",
       "      <td>7.3</td>\n",
       "      <td>2.4</td>\n",
       "      <td>0.40</td>\n",
       "      <td>1</td>\n",
       "    </tr>\n",
       "    <tr>\n",
       "      <th>...</th>\n",
       "      <td>...</td>\n",
       "      <td>...</td>\n",
       "      <td>...</td>\n",
       "      <td>...</td>\n",
       "      <td>...</td>\n",
       "      <td>...</td>\n",
       "      <td>...</td>\n",
       "      <td>...</td>\n",
       "      <td>...</td>\n",
       "      <td>...</td>\n",
       "      <td>...</td>\n",
       "    </tr>\n",
       "    <tr>\n",
       "      <th>578</th>\n",
       "      <td>60</td>\n",
       "      <td>1</td>\n",
       "      <td>0.5</td>\n",
       "      <td>0.1</td>\n",
       "      <td>500</td>\n",
       "      <td>20</td>\n",
       "      <td>34</td>\n",
       "      <td>5.9</td>\n",
       "      <td>1.6</td>\n",
       "      <td>0.37</td>\n",
       "      <td>2</td>\n",
       "    </tr>\n",
       "    <tr>\n",
       "      <th>579</th>\n",
       "      <td>40</td>\n",
       "      <td>1</td>\n",
       "      <td>0.6</td>\n",
       "      <td>0.1</td>\n",
       "      <td>98</td>\n",
       "      <td>35</td>\n",
       "      <td>31</td>\n",
       "      <td>6.0</td>\n",
       "      <td>3.2</td>\n",
       "      <td>1.10</td>\n",
       "      <td>1</td>\n",
       "    </tr>\n",
       "    <tr>\n",
       "      <th>580</th>\n",
       "      <td>52</td>\n",
       "      <td>1</td>\n",
       "      <td>0.8</td>\n",
       "      <td>0.2</td>\n",
       "      <td>245</td>\n",
       "      <td>48</td>\n",
       "      <td>49</td>\n",
       "      <td>6.4</td>\n",
       "      <td>3.2</td>\n",
       "      <td>1.00</td>\n",
       "      <td>1</td>\n",
       "    </tr>\n",
       "    <tr>\n",
       "      <th>581</th>\n",
       "      <td>31</td>\n",
       "      <td>1</td>\n",
       "      <td>1.3</td>\n",
       "      <td>0.5</td>\n",
       "      <td>184</td>\n",
       "      <td>29</td>\n",
       "      <td>32</td>\n",
       "      <td>6.8</td>\n",
       "      <td>3.4</td>\n",
       "      <td>1.00</td>\n",
       "      <td>1</td>\n",
       "    </tr>\n",
       "    <tr>\n",
       "      <th>582</th>\n",
       "      <td>38</td>\n",
       "      <td>1</td>\n",
       "      <td>1.0</td>\n",
       "      <td>0.3</td>\n",
       "      <td>216</td>\n",
       "      <td>21</td>\n",
       "      <td>24</td>\n",
       "      <td>7.3</td>\n",
       "      <td>4.4</td>\n",
       "      <td>1.50</td>\n",
       "      <td>2</td>\n",
       "    </tr>\n",
       "  </tbody>\n",
       "</table>\n",
       "<p>583 rows × 11 columns</p>\n",
       "</div>"
      ],
      "text/plain": [
       "     Age  Gender  TB Total Bilirubin  DB Direct Bilirubin  \\\n",
       "0     65       0                 0.7                  0.1   \n",
       "1     62       1                10.9                  5.5   \n",
       "2     62       1                 7.3                  4.1   \n",
       "3     58       1                 1.0                  0.4   \n",
       "4     72       1                 3.9                  2.0   \n",
       "..   ...     ...                 ...                  ...   \n",
       "578   60       1                 0.5                  0.1   \n",
       "579   40       1                 0.6                  0.1   \n",
       "580   52       1                 0.8                  0.2   \n",
       "581   31       1                 1.3                  0.5   \n",
       "582   38       1                 1.0                  0.3   \n",
       "\n",
       "     Alkphos Alkaline Phosphotase  Sgpt Alamine Aminotransferase  \\\n",
       "0                             187                             16   \n",
       "1                             699                             64   \n",
       "2                             490                             60   \n",
       "3                             182                             14   \n",
       "4                             195                             27   \n",
       "..                            ...                            ...   \n",
       "578                           500                             20   \n",
       "579                            98                             35   \n",
       "580                           245                             48   \n",
       "581                           184                             29   \n",
       "582                           216                             21   \n",
       "\n",
       "     Sgot Aspartate Aminotransferase  TP Total Protiens  ALB Albumin  \\\n",
       "0                                 18                6.8          3.3   \n",
       "1                                100                7.5          3.2   \n",
       "2                                 68                7.0          3.3   \n",
       "3                                 20                6.8          3.4   \n",
       "4                                 59                7.3          2.4   \n",
       "..                               ...                ...          ...   \n",
       "578                               34                5.9          1.6   \n",
       "579                               31                6.0          3.2   \n",
       "580                               49                6.4          3.2   \n",
       "581                               32                6.8          3.4   \n",
       "582                               24                7.3          4.4   \n",
       "\n",
       "     A/G Ratio Albumin and Globulin Ratio  Label  \n",
       "0                                    0.90      1  \n",
       "1                                    0.74      1  \n",
       "2                                    0.89      1  \n",
       "3                                    1.00      1  \n",
       "4                                    0.40      1  \n",
       "..                                    ...    ...  \n",
       "578                                  0.37      2  \n",
       "579                                  1.10      1  \n",
       "580                                  1.00      1  \n",
       "581                                  1.00      1  \n",
       "582                                  1.50      2  \n",
       "\n",
       "[583 rows x 11 columns]"
      ]
     },
     "execution_count": 3,
     "metadata": {},
     "output_type": "execute_result"
    }
   ],
   "source": [
    "df.fillna(df.mean())"
   ]
  },
  {
   "cell_type": "code",
   "execution_count": 4,
   "metadata": {},
   "outputs": [],
   "source": [
    "dataset = np.array(df)"
   ]
  },
  {
   "cell_type": "code",
   "execution_count": 5,
   "metadata": {},
   "outputs": [],
   "source": [
    "X = dataset[:,0:10].astype(float)\n",
    "Y = dataset[:,10]\n"
   ]
  },
  {
   "cell_type": "code",
   "execution_count": 6,
   "metadata": {},
   "outputs": [],
   "source": [
    "encoder = LabelEncoder()\n",
    "encoder.fit(Y)\n",
    "encoded_Y = encoder.transform(Y)"
   ]
  },
  {
   "cell_type": "code",
   "execution_count": 7,
   "metadata": {},
   "outputs": [],
   "source": [
    "sc = StandardScaler()\n",
    "X = sc.fit_transform(X)\n",
    "X = np.nan_to_num(X)"
   ]
  },
  {
   "cell_type": "code",
   "execution_count": 8,
   "metadata": {},
   "outputs": [],
   "source": [
    "from sklearn.model_selection import train_test_split\n",
    "X_train, X_test, y_train, y_test = train_test_split(X, encoded_Y, test_size=0.2)"
   ]
  },
  {
   "cell_type": "code",
   "execution_count": 9,
   "metadata": {},
   "outputs": [
    {
     "name": "stdout",
     "output_type": "stream",
     "text": [
      "WARNING:tensorflow:From /Users/dhruvmongia/anaconda3/envs/tf/lib/python3.7/site-packages/keras/backend/tensorflow_backend.py:74: The name tf.get_default_graph is deprecated. Please use tf.compat.v1.get_default_graph instead.\n",
      "\n",
      "WARNING:tensorflow:From /Users/dhruvmongia/anaconda3/envs/tf/lib/python3.7/site-packages/keras/backend/tensorflow_backend.py:517: The name tf.placeholder is deprecated. Please use tf.compat.v1.placeholder instead.\n",
      "\n",
      "WARNING:tensorflow:From /Users/dhruvmongia/anaconda3/envs/tf/lib/python3.7/site-packages/keras/backend/tensorflow_backend.py:4138: The name tf.random_uniform is deprecated. Please use tf.random.uniform instead.\n",
      "\n"
     ]
    }
   ],
   "source": [
    "classifier = Sequential()\n",
    "#First Hidden Layer\n",
    "classifier.add(Dense(8, activation='relu', input_dim=10))\n",
    "#Second  Hidden Layer\n",
    "classifier.add(Dense(4, activation='relu'))\n",
    "#Output Layer\n",
    "classifier.add(Dense(1, activation='sigmoid'))"
   ]
  },
  {
   "cell_type": "code",
   "execution_count": 10,
   "metadata": {},
   "outputs": [
    {
     "name": "stdout",
     "output_type": "stream",
     "text": [
      "WARNING:tensorflow:From /Users/dhruvmongia/anaconda3/envs/tf/lib/python3.7/site-packages/keras/optimizers.py:790: The name tf.train.Optimizer is deprecated. Please use tf.compat.v1.train.Optimizer instead.\n",
      "\n",
      "WARNING:tensorflow:From /Users/dhruvmongia/anaconda3/envs/tf/lib/python3.7/site-packages/keras/backend/tensorflow_backend.py:3376: The name tf.log is deprecated. Please use tf.math.log instead.\n",
      "\n",
      "WARNING:tensorflow:From /Users/dhruvmongia/anaconda3/envs/tf/lib/python3.7/site-packages/tensorflow_core/python/ops/nn_impl.py:183: where (from tensorflow.python.ops.array_ops) is deprecated and will be removed in a future version.\n",
      "Instructions for updating:\n",
      "Use tf.where in 2.0, which has the same broadcast rule as np.where\n"
     ]
    }
   ],
   "source": [
    "# keras.optimizers.SGD(lr=0.01, momentum=0.0, nesterov=False)\n",
    "classifier.compile(optimizer ='adam',loss='binary_crossentropy', metrics =['accuracy'])"
   ]
  },
  {
   "cell_type": "code",
   "execution_count": 11,
   "metadata": {},
   "outputs": [
    {
     "name": "stdout",
     "output_type": "stream",
     "text": [
      "WARNING:tensorflow:From /Users/dhruvmongia/anaconda3/envs/tf/lib/python3.7/site-packages/keras/backend/tensorflow_backend.py:986: The name tf.assign_add is deprecated. Please use tf.compat.v1.assign_add instead.\n",
      "\n",
      "WARNING:tensorflow:From /Users/dhruvmongia/anaconda3/envs/tf/lib/python3.7/site-packages/keras/backend/tensorflow_backend.py:973: The name tf.assign is deprecated. Please use tf.compat.v1.assign instead.\n",
      "\n",
      "WARNING:tensorflow:From /Users/dhruvmongia/anaconda3/envs/tf/lib/python3.7/site-packages/keras/backend/tensorflow_backend.py:2741: The name tf.Session is deprecated. Please use tf.compat.v1.Session instead.\n",
      "\n",
      "Train on 326 samples, validate on 140 samples\n",
      "Epoch 1/40\n",
      "WARNING:tensorflow:From /Users/dhruvmongia/anaconda3/envs/tf/lib/python3.7/site-packages/keras/backend/tensorflow_backend.py:174: The name tf.get_default_session is deprecated. Please use tf.compat.v1.get_default_session instead.\n",
      "\n",
      "WARNING:tensorflow:From /Users/dhruvmongia/anaconda3/envs/tf/lib/python3.7/site-packages/keras/backend/tensorflow_backend.py:181: The name tf.ConfigProto is deprecated. Please use tf.compat.v1.ConfigProto instead.\n",
      "\n",
      "WARNING:tensorflow:From /Users/dhruvmongia/anaconda3/envs/tf/lib/python3.7/site-packages/keras/backend/tensorflow_backend.py:190: The name tf.global_variables is deprecated. Please use tf.compat.v1.global_variables instead.\n",
      "\n",
      "WARNING:tensorflow:From /Users/dhruvmongia/anaconda3/envs/tf/lib/python3.7/site-packages/keras/backend/tensorflow_backend.py:199: The name tf.is_variable_initialized is deprecated. Please use tf.compat.v1.is_variable_initialized instead.\n",
      "\n",
      "WARNING:tensorflow:From /Users/dhruvmongia/anaconda3/envs/tf/lib/python3.7/site-packages/keras/backend/tensorflow_backend.py:206: The name tf.variables_initializer is deprecated. Please use tf.compat.v1.variables_initializer instead.\n",
      "\n",
      "326/326 [==============================] - 3s 11ms/step - loss: 0.6916 - acc: 0.5951 - val_loss: 0.6802 - val_acc: 0.6929\n",
      "Epoch 2/40\n",
      "326/326 [==============================] - 1s 3ms/step - loss: 0.6676 - acc: 0.6963 - val_loss: 0.6539 - val_acc: 0.7500\n",
      "Epoch 3/40\n",
      "326/326 [==============================] - 1s 3ms/step - loss: 0.6397 - acc: 0.7055 - val_loss: 0.6065 - val_acc: 0.7571\n",
      "Epoch 4/40\n",
      "326/326 [==============================] - 1s 2ms/step - loss: 0.5942 - acc: 0.7055 - val_loss: 0.5470 - val_acc: 0.7571\n",
      "Epoch 5/40\n",
      "326/326 [==============================] - 1s 2ms/step - loss: 0.5531 - acc: 0.7055 - val_loss: 0.5216 - val_acc: 0.7571\n",
      "Epoch 6/40\n",
      "326/326 [==============================] - 1s 2ms/step - loss: 0.5326 - acc: 0.7055 - val_loss: 0.5083 - val_acc: 0.7571\n",
      "Epoch 7/40\n",
      "326/326 [==============================] - 1s 2ms/step - loss: 0.5202 - acc: 0.7055 - val_loss: 0.5073 - val_acc: 0.7571\n",
      "Epoch 8/40\n",
      "326/326 [==============================] - 1s 2ms/step - loss: 0.5126 - acc: 0.7117 - val_loss: 0.5021 - val_acc: 0.7571\n",
      "Epoch 9/40\n",
      "326/326 [==============================] - 1s 2ms/step - loss: 0.5042 - acc: 0.6902 - val_loss: 0.5021 - val_acc: 0.7571\n",
      "Epoch 10/40\n",
      "326/326 [==============================] - 1s 2ms/step - loss: 0.4973 - acc: 0.7055 - val_loss: 0.5002 - val_acc: 0.7571\n",
      "Epoch 11/40\n",
      "326/326 [==============================] - 1s 2ms/step - loss: 0.4930 - acc: 0.7086 - val_loss: 0.5013 - val_acc: 0.7429\n",
      "Epoch 12/40\n",
      "326/326 [==============================] - 1s 2ms/step - loss: 0.4891 - acc: 0.7086 - val_loss: 0.5021 - val_acc: 0.7357\n",
      "Epoch 13/40\n",
      "326/326 [==============================] - 1s 2ms/step - loss: 0.4859 - acc: 0.7117 - val_loss: 0.5040 - val_acc: 0.7429\n",
      "Epoch 14/40\n",
      "326/326 [==============================] - 1s 2ms/step - loss: 0.4820 - acc: 0.7178 - val_loss: 0.5061 - val_acc: 0.7214\n",
      "Epoch 15/40\n",
      "326/326 [==============================] - 1s 2ms/step - loss: 0.4800 - acc: 0.7147 - val_loss: 0.5077 - val_acc: 0.7214\n",
      "Epoch 16/40\n",
      "326/326 [==============================] - 1s 2ms/step - loss: 0.4768 - acc: 0.7117 - val_loss: 0.5134 - val_acc: 0.7143\n",
      "Epoch 17/40\n",
      "326/326 [==============================] - 1s 2ms/step - loss: 0.4759 - acc: 0.7178 - val_loss: 0.5141 - val_acc: 0.7286\n",
      "Epoch 18/40\n",
      "326/326 [==============================] - 1s 2ms/step - loss: 0.4731 - acc: 0.7117 - val_loss: 0.5153 - val_acc: 0.7214\n",
      "Epoch 19/40\n",
      "326/326 [==============================] - 1s 2ms/step - loss: 0.4723 - acc: 0.7209 - val_loss: 0.5182 - val_acc: 0.7214\n",
      "Epoch 20/40\n",
      "326/326 [==============================] - 1s 2ms/step - loss: 0.4702 - acc: 0.7209 - val_loss: 0.5192 - val_acc: 0.7357\n",
      "Epoch 21/40\n",
      "326/326 [==============================] - 1s 2ms/step - loss: 0.4680 - acc: 0.7301 - val_loss: 0.5179 - val_acc: 0.7286\n",
      "Epoch 22/40\n",
      "326/326 [==============================] - 1s 2ms/step - loss: 0.4664 - acc: 0.7331 - val_loss: 0.5203 - val_acc: 0.7286\n",
      "Epoch 23/40\n",
      "326/326 [==============================] - 1s 2ms/step - loss: 0.4655 - acc: 0.7331 - val_loss: 0.5220 - val_acc: 0.7500\n",
      "Epoch 24/40\n",
      "326/326 [==============================] - 1s 2ms/step - loss: 0.4638 - acc: 0.7454 - val_loss: 0.5249 - val_acc: 0.7429\n",
      "Epoch 25/40\n",
      "326/326 [==============================] - 1s 2ms/step - loss: 0.4631 - acc: 0.7577 - val_loss: 0.5273 - val_acc: 0.7500\n",
      "Epoch 26/40\n",
      "326/326 [==============================] - 1s 2ms/step - loss: 0.4620 - acc: 0.7577 - val_loss: 0.5281 - val_acc: 0.7286\n",
      "Epoch 27/40\n",
      "326/326 [==============================] - 1s 2ms/step - loss: 0.4602 - acc: 0.7577 - val_loss: 0.5292 - val_acc: 0.7071\n",
      "Epoch 28/40\n",
      "326/326 [==============================] - 1s 2ms/step - loss: 0.4586 - acc: 0.7577 - val_loss: 0.5326 - val_acc: 0.7143\n",
      "Epoch 29/40\n",
      "326/326 [==============================] - 1s 2ms/step - loss: 0.4576 - acc: 0.7607 - val_loss: 0.5324 - val_acc: 0.7214\n",
      "Epoch 30/40\n",
      "326/326 [==============================] - 1s 3ms/step - loss: 0.4570 - acc: 0.7515 - val_loss: 0.5335 - val_acc: 0.7286\n",
      "Epoch 31/40\n",
      "326/326 [==============================] - 1s 2ms/step - loss: 0.4555 - acc: 0.7454 - val_loss: 0.5380 - val_acc: 0.7143\n",
      "Epoch 32/40\n",
      "326/326 [==============================] - 1s 2ms/step - loss: 0.4540 - acc: 0.7577 - val_loss: 0.5357 - val_acc: 0.7143\n",
      "Epoch 33/40\n",
      "326/326 [==============================] - 1s 3ms/step - loss: 0.4540 - acc: 0.7577 - val_loss: 0.5379 - val_acc: 0.7214\n",
      "Epoch 34/40\n",
      "326/326 [==============================] - 1s 3ms/step - loss: 0.4521 - acc: 0.7669 - val_loss: 0.5374 - val_acc: 0.7286\n",
      "Epoch 35/40\n",
      "326/326 [==============================] - 1s 3ms/step - loss: 0.4508 - acc: 0.7669 - val_loss: 0.5409 - val_acc: 0.7214\n",
      "Epoch 36/40\n",
      "326/326 [==============================] - 1s 3ms/step - loss: 0.4504 - acc: 0.7577 - val_loss: 0.5409 - val_acc: 0.7214\n",
      "Epoch 37/40\n",
      "326/326 [==============================] - 1s 3ms/step - loss: 0.4511 - acc: 0.7699 - val_loss: 0.5412 - val_acc: 0.7143\n",
      "Epoch 38/40\n",
      "326/326 [==============================] - 1s 2ms/step - loss: 0.4484 - acc: 0.7577 - val_loss: 0.5439 - val_acc: 0.7214\n",
      "Epoch 39/40\n",
      "326/326 [==============================] - 1s 2ms/step - loss: 0.4475 - acc: 0.7515 - val_loss: 0.5462 - val_acc: 0.7286\n",
      "Epoch 40/40\n",
      "326/326 [==============================] - 1s 2ms/step - loss: 0.4470 - acc: 0.7669 - val_loss: 0.5477 - val_acc: 0.7286\n"
     ]
    }
   ],
   "source": [
    "history = classifier.fit(X_train,y_train,validation_split=0.3, batch_size=2, epochs=40)"
   ]
  },
  {
   "cell_type": "code",
   "execution_count": 12,
   "metadata": {},
   "outputs": [
    {
     "data": {
      "image/png": "[encoded data removed]",
      "text/plain": [
       "<Figure size 640x480 with 1 Axes>"
      ]
     },
     "metadata": {},
     "output_type": "display_data"
    },
    {
     "data": {
      "text/plain": [
       "<Figure size 432x288 with 0 Axes>"
      ]
     },
     "metadata": {},
     "output_type": "display_data"
    },
    {
     "data": {
      "image/png": "[encoded data removed]",
      "text/plain": [
       "<Figure size 640x480 with 1 Axes>"
      ]
     },
     "metadata": {},
     "output_type": "display_data"
    },
    {
     "data": {
      "text/plain": [
       "<Figure size 432x288 with 0 Axes>"
      ]
     },
     "metadata": {},
     "output_type": "display_data"
    }
   ],
   "source": [
    "# summarize history for accuracy\n",
    "from matplotlib.pyplot import figure\n",
    "figure(num=None, figsize=(8, 6), dpi=80, facecolor='w', edgecolor='k')\n",
    "plt.plot(history.history['acc'])\n",
    "plt.plot(history.history['val_acc'])\n",
    "plt.title('model accuracy')\n",
    "plt.ylabel('accuracy')\n",
    "plt.xlabel('epoch')\n",
    "plt.legend(['train', 'validation'], loc='upper left')\n",
    "plt.show()\n",
    "plt.savefig('backpropagation-model-accuracy.png')\n",
    "# summarize history for loss\n",
    "figure(num=None, figsize=(8, 6), dpi=80, facecolor='w', edgecolor='k')\n",
    "plt.plot(history.history['loss'])\n",
    "plt.plot(history.history['val_loss'])\n",
    "plt.title('model loss')\n",
    "plt.ylabel('loss')\n",
    "plt.xlabel('epoch')\n",
    "plt.legend(['train', 'validation'], loc='upper left')\n",
    "plt.show()\n",
    "plt.savefig('backpropagation-model-loss.png')"
   ]
  },
  {
   "cell_type": "code",
   "execution_count": 13,
   "metadata": {},
   "outputs": [
    {
     "name": "stdout",
     "output_type": "stream",
     "text": [
      "466/466 [==============================] - 0s 64us/step\n"
     ]
    },
    {
     "data": {
      "text/plain": [
       "[0.47371367988668284, 0.7553648066111389]"
      ]
     },
     "execution_count": 13,
     "metadata": {},
     "output_type": "execute_result"
    }
   ],
   "source": [
    "eval_model=classifier.evaluate(X_train, y_train)\n",
    "eval_model"
   ]
  },
  {
   "cell_type": "code",
   "execution_count": 14,
   "metadata": {},
   "outputs": [
    {
     "name": "stdout",
     "output_type": "stream",
     "text": [
      "Epoch 1/9\n",
      "466/466 [==============================] - 3s 5ms/step - loss: 0.7603 - acc: 0.4378\n",
      "Epoch 2/9\n",
      "466/466 [==============================] - 1s 2ms/step - loss: 0.6111 - acc: 0.6481\n",
      "Epoch 3/9\n",
      "466/466 [==============================] - 1s 2ms/step - loss: 0.5530 - acc: 0.7039\n",
      "Epoch 4/9\n",
      "466/466 [==============================] - 1s 2ms/step - loss: 0.5299 - acc: 0.7103\n",
      "Epoch 5/9\n",
      "466/466 [==============================] - 1s 2ms/step - loss: 0.5183 - acc: 0.7167\n",
      "Epoch 6/9\n",
      "466/466 [==============================] - 1s 2ms/step - loss: 0.5106 - acc: 0.7210\n",
      "Epoch 7/9\n",
      "466/466 [==============================] - 1s 2ms/step - loss: 0.5025 - acc: 0.7232\n",
      "Epoch 8/9\n",
      "466/466 [==============================] - 1s 2ms/step - loss: 0.4957 - acc: 0.7339\n",
      "Epoch 9/9\n",
      "466/466 [==============================] - 1s 2ms/step - loss: 0.4894 - acc: 0.7339\n"
     ]
    },
    {
     "data": {
      "text/plain": [
       "<keras.callbacks.History at 0x1a419d7cd0>"
      ]
     },
     "execution_count": 14,
     "metadata": {},
     "output_type": "execute_result"
    }
   ],
   "source": [
    "final_classifier = Sequential()\n",
    "#First Hidden Layer\n",
    "final_classifier.add(Dense(8, activation='relu', input_dim=10))\n",
    "#Second  Hidden Layer\n",
    "final_classifier.add(Dense(4, activation='relu'))\n",
    "#Output Layer\n",
    "final_classifier.add(Dense(1, activation='sigmoid'))\n",
    "final_classifier.compile(optimizer ='adam',loss='binary_crossentropy', metrics =['accuracy'])\n",
    "final_classifier.fit(X_train,y_train, batch_size=2, epochs=9)"
   ]
  },
  {
   "cell_type": "code",
   "execution_count": 15,
   "metadata": {},
   "outputs": [],
   "source": [
    "y_pred=classifier.predict(X_test)\n",
    "y_pred =(y_pred>0.5)"
   ]
  },
  {
   "cell_type": "code",
   "execution_count": 16,
   "metadata": {},
   "outputs": [
    {
     "name": "stdout",
     "output_type": "stream",
     "text": [
      "[[68 12]\n",
      " [23 14]]\n"
     ]
    }
   ],
   "source": [
    "from sklearn.metrics import confusion_matrix\n",
    "cm = confusion_matrix(y_test, y_pred)\n",
    "print(cm)"
   ]
  },
  {
   "cell_type": "code",
   "execution_count": null,
   "metadata": {},
   "outputs": [],
   "source": []
  }
 ],
 "metadata": {
  "kernelspec": {
   "display_name": "Python [conda env:tf] *",
   "language": "python",
   "name": "conda-env-tf-py"
  },
  "language_info": {
   "codemirror_mode": {
    "name": "ipython",
    "version": 3
   },
   "file_extension": ".py",
   "mimetype": "text/x-python",
   "name": "python",
   "nbconvert_exporter": "python",
   "pygments_lexer": "ipython3",
   "version": "3.7.5"
  }
 },
 "nbformat": 4,
 "nbformat_minor": 2
}
